{
 "cells": [
  {
   "cell_type": "code",
   "execution_count": 1,
   "id": "57a48ee2",
   "metadata": {},
   "outputs": [],
   "source": [
    "import re\n",
    "import pandas as pd\n",
    "import numpy as np"
   ]
  },
  {
   "cell_type": "code",
   "execution_count": 2,
   "id": "e984f757",
   "metadata": {},
   "outputs": [],
   "source": [
    "import warnings\n",
    "warnings.simplefilter(\"ignore\")"
   ]
  },
  {
   "cell_type": "code",
   "execution_count": 3,
   "id": "e499ec50",
   "metadata": {},
   "outputs": [],
   "source": [
    "df = pd.read_csv('raw_names.csv')"
   ]
  },
  {
   "cell_type": "code",
   "execution_count": 4,
   "id": "d9e61a33",
   "metadata": {},
   "outputs": [],
   "source": [
    "patterns = [\n",
    "    # ПАО ГТС => ГТС, ПАО\n",
    "    # АО \"Р-БАНК\" => Р-БАНК, АО\n",
    "    # ООО\"ЛОГИСТИКА ИНТ\" => ЛОГИСТИКА ИНТ, ООО\n",
    "    r'^(?i)(П?АО|ООО|ГУП)(?:\\s+|\\s*\")([^\"]+)\"?',\n",
    "    \n",
    "    # ПАО Р-БАНК//ИЗМАЙЛОВ ВАЛЕРИЙ МИХАЙЛОВИЧ//РОССИЯ,МОСКВА Г Р/С в ПАО Р-БАНК г Москва => Измайлов В.\n",
    "    r'//([\\w-]+)\\s+(\\w)\\w*\\s+(?:\\w)\\w*//',\n",
    "    \n",
    "    # ИП Ткаченко Елена => Ткаченко Е., ИП\n",
    "    # ИП Борисов Игорь Вячеславович => Борисов И., ИП\n",
    "    # Индивидуальный ПРЕДПРИНИМАТЕЛЬ Логинов Андрей Николаевич => Логинов А., ИП\n",
    "    r'^(?i)(и)(?:ндивидуальный)?\\s*(п)(?:редприниматель)?\\s*(\\w+)\\s+(\\w)\\w*\\s*(?:\\w)?\\w*',\n",
    "    \n",
    "    # Никишкина Лидия Алексеевна (ИП) => Нокошина Л., ИП\n",
    "    r'^([\\w-]+)\\s+(\\w)\\w*\\s*(?:\\w)?\\w*\\s*\\((ИП)\\)$',\n",
    "    \n",
    "    # ВОРОНОВ ИЛЬЯ АНДРЕЕВИЧ => Воронов И.\n",
    "    # Турбин Данила Романович => Турбин Д.\n",
    "    r'([\\w-]+)\\s+(\\w)\\w*\\s+(\\w)\\w*$',\n",
    "    \n",
    "    # ООО \"ЧОП \"ОХРАННЫЕ СИСТЕМЫ\" => ОХРАННЫЕ СИСТЕМЫ, ЧОП, ООО\n",
    "    # АО \"ПФ \"СКБ ФОРТ\" => СКБ ФОРТ, ПФ, АО\n",
    "    # ООО \"КОМПАНИЯ \"УЗОР\" => УЗОР, КОМПАНИЯ, ООО\n",
    "    r'^([\\w-]{2,3})\\s+\"?(.*)\\s+\"(.*)\"',\n",
    "    \n",
    "    #  contains \"ФНС\": \n",
    "    # МИ ФНС РОССИИ ПО УПРАВЛЕНИЮ ДОЛГОМ => ФНС\n",
    "    # иФНС России № 55 ПО Г. МОСКВЕ => ФНС\n",
    "    # УФК по г. Москве(ИФНС России № 55 по г.Москве) => ФНС\n",
    "    r'\\w*\\s*(?i)(?:и?)\\s*(ф)(?:едеральной)?\\s*(н)(?:алоговой)?\\s*(с)(?:лужбы)?\\s*(?:россии)?\\s*\\w*\\s*', \n",
    "    \n",
    "    # ОБЩЕСТВО С ОГРАНИЧЕННОЙ ОТВЕТСТВЕННОСТЬЮ \"ЛАГ1\" => ЛАГ1, ООО\n",
    "    # ЗАКРЫТОЕ АКЦИОНЕРНОЕ ОБЩЕСТВО \"Трио\" => Трио, ЗАО\n",
    "    r'(\\w)\\w{3,}|\\\"([^\\\"]+)\\\"',\n",
    "    \n",
    "    # Межрегиональное операционное УФК (КАЗНАЧЕЙСТВО РОССИИ) => Межрегиональное операционное УФК\n",
    "    r'^.+?(?=\\s*\\()',\n",
    "]"
   ]
  },
  {
   "cell_type": "code",
   "execution_count": 5,
   "id": "345c54a1",
   "metadata": {},
   "outputs": [],
   "source": [
    "def extract_text(row):\n",
    "    \"\"\"\n",
    "    Get string with raw title and extract necessary text by patterns\n",
    "    \"\"\"\n",
    "    matches = []\n",
    "\n",
    "    for pattern in patterns:\n",
    "        match = re.findall(pattern, row)\n",
    "        matches.append(match)\n",
    "        \n",
    "    # matches[n] appropriates pattern{n}\n",
    "    return '{}, {}, {}'.format(matches[5][0][2], matches[5][0][1], matches[5][0][0]) if matches[5] else \\\n",
    "        '{} {}.'.format(matches[1][0][0].capitalize(), matches[1][0][1]) if matches[1] else \\\n",
    "        '{}, {}'.format(matches[0][0][1].upper(), matches[0][0][0]) if matches[0] else \\\n",
    "        '{} {}., {}{}'.format(matches[2][0][2].capitalize(), matches[2][0][3], matches[2][0][0], matches[2][0][1]) if matches[2] else \\\n",
    "        '{} {}., {}'.format(matches[3][0][0].capitalize(), matches[3][0][1], matches[3][0][2]) if matches[3] else \\\n",
    "        '{}{}{}'.format(matches[6][0][0].upper(),matches[6][0][1].upper(),matches[6][0][2]).upper() if matches[6] else \\\n",
    "        '{} {}.'.format(matches[4][0][0].capitalize(), matches[4][0][1]) if matches[4] else \\\n",
    "        '{}, {}'.format([mat[1] for mat in matches[7] if mat[1]][0],\n",
    "                        ''.join(map(str, [mat[0] for mat in matches[7] if\n",
    "                                          mat[0]]))) if '\"' in row else \\\n",
    "        '{}'.format(matches[8][0]) if matches[8] else \\\n",
    "        row"
   ]
  },
  {
   "cell_type": "code",
   "execution_count": 6,
   "id": "d38381ff",
   "metadata": {},
   "outputs": [],
   "source": [
    "# creating column \"Agent\"\n",
    "df['Agent'] = np.vectorize(extract_text)(df['raw_agents'])"
   ]
  },
  {
   "cell_type": "code",
   "execution_count": 7,
   "id": "700549b1",
   "metadata": {},
   "outputs": [],
   "source": [
    "# creating a dictioinary to further using\n",
    "names_dict = dict(df.values)"
   ]
  },
  {
   "cell_type": "code",
   "execution_count": null,
   "id": "99ac083d",
   "metadata": {},
   "outputs": [],
   "source": []
  }
 ],
 "metadata": {
  "kernelspec": {
   "display_name": "Python 3 (ipykernel)",
   "language": "python",
   "name": "python3"
  },
  "language_info": {
   "codemirror_mode": {
    "name": "ipython",
    "version": 3
   },
   "file_extension": ".py",
   "mimetype": "text/x-python",
   "name": "python",
   "nbconvert_exporter": "python",
   "pygments_lexer": "ipython3",
   "version": "3.9.12"
  }
 },
 "nbformat": 4,
 "nbformat_minor": 5
}
