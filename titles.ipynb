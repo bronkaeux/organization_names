{
 "cells": [
  {
   "cell_type": "code",
   "execution_count": 1,
   "id": "66a38e8d",
   "metadata": {},
   "outputs": [],
   "source": [
    "import re\n",
    "import pandas as pd\n",
    "import numpy as np"
   ]
  },
  {
   "cell_type": "code",
   "execution_count": 2,
   "id": "b0972399",
   "metadata": {},
   "outputs": [],
   "source": [
    "import warnings\n",
    "warnings.simplefilter(\"ignore\")"
   ]
  },
  {
   "cell_type": "code",
   "execution_count": 3,
   "id": "bf056a43",
   "metadata": {},
   "outputs": [],
   "source": [
    "df = pd.read_csv('raw_names')"
   ]
  },
  {
   "cell_type": "code",
   "execution_count": 4,
   "id": "d68aff3c",
   "metadata": {},
   "outputs": [],
   "source": [
    "patterns = [\n",
    "    r'^(П?АО|ООО|ГУП)\\s*\"?(?i)([^\"]+)\"?',  # begins with \"ПАО|ООО|ГУП\" \n",
    "    r'//([\\w-]+)\\s+(\\w)\\w*\\s+(\\w)\\w*//',  # within double slash\n",
    "    r'^(?i)(и)(?:ндивидуальный)?\\s*(п)(?:редприниматель)?\\s*(\\w+)\\s+(\\w)\\w*\\s*(?:\\w)?\\w*',  # begins with \"ИП\"\n",
    "    r'^([\\w-]+)\\s+(\\w)\\w*\\s*(?:\\w)?\\w*\\s*\\((ИП)\\)$',  # ends with \"ИП\"\n",
    "    r'([\\w-]+)\\s+(\\w)\\w*\\s+(\\w)\\w*$',  # Surname Name(N.) \n",
    "    r'^([\\w-]{2,3}) +\"?(.*) +\"(.*)\"',  # 3 double quotes\n",
    "    r'\\w*\\s*(?i)(?:и?)\\s*(ф)(?:едеральной)?\\s*(н)(?:алоговой)?\\s*(с)(?:лужбы)?\\s*(?:россии)?\\s*\\w*\\s*',  # contains \"ФНС\"\n",
    "    r'(\\w)\\w{3,}|\\\"([^\\\"]+)\\\"',  # for abbreviation and name within double quotes\n",
    "    r'^.+?(?=\\s*\\()',  # split before (\n",
    "]"
   ]
  },
  {
   "cell_type": "code",
   "execution_count": 5,
   "id": "26822c99",
   "metadata": {},
   "outputs": [],
   "source": [
    "def extract_text(row):\n",
    "    \"\"\"\n",
    "    Get string with raw title and extract necessary text by patterns\n",
    "    \"\"\"\n",
    "    matches = []\n",
    "\n",
    "    for pattern in patterns:\n",
    "        match = re.findall(pattern, row)\n",
    "        matches.append(match)\n",
    "        \n",
    "    # matches[n] appropriates pattern{n}\n",
    "    return '{}, {}, {}'.format(matches[5][0][2], matches[5][0][1], matches[5][0][0]) if matches[5] else \\\n",
    "        '{} {}.{}.'.format(matches[1][0][0].capitalize(), matches[1][0][1], matches[1][0][2]) if matches[1] else \\\n",
    "        '{}, {}'.format(matches[0][0][1].upper(), matches[0][0][0]) if matches[0] else \\\n",
    "        '{} {}., {}{}'.format(matches[2][0][2].capitalize(), matches[2][0][3], matches[2][0][0], matches[2][0][1]) if matches[2] else \\\n",
    "        '{} {}., {}'.format(matches[3][0][0].capitalize(), matches[3][0][1], matches[3][0][2]) if matches[3] else \\\n",
    "        '{}{}{}'.format(matches[6][0][0].upper(),matches[6][0][1].upper(),matches[6][0][2]).upper() if matches[6] else \\\n",
    "        '{} {}.'.format(matches[4][0][0].capitalize(), matches[4][0][1]) if matches[4] else \\\n",
    "        '{}, {}'.format([mat[1] for mat in matches[7] if mat[1]][0],\n",
    "                        ''.join(map(str, [mat[0] for mat in matches[7] if\n",
    "                                          mat[0]]))) if '\"' in row else \\\n",
    "        '{}'.format(matches[8][0]) if matches[8] else \\\n",
    "        row\n",
    "\n",
    "\n",
    "# creating column \"Agent\"\n",
    "df['Agent'] = np.vectorize(extract_text)(df['raw_agents'])"
   ]
  },
  {
   "cell_type": "code",
   "execution_count": 6,
   "id": "84ef557c",
   "metadata": {},
   "outputs": [],
   "source": [
    "with pd.ExcelWriter(\"sss.xlsx\") as writer:\n",
    "    df.to_excel(writer, sheet_name=\"data\", index=False)"
   ]
  },
  {
   "cell_type": "code",
   "execution_count": null,
   "id": "e95a9231",
   "metadata": {},
   "outputs": [],
   "source": []
  }
 ],
 "metadata": {
  "kernelspec": {
   "display_name": "Python 3 (ipykernel)",
   "language": "python",
   "name": "python3"
  },
  "language_info": {
   "codemirror_mode": {
    "name": "ipython",
    "version": 3
   },
   "file_extension": ".py",
   "mimetype": "text/x-python",
   "name": "python",
   "nbconvert_exporter": "python",
   "pygments_lexer": "ipython3",
   "version": "3.9.12"
  }
 },
 "nbformat": 4,
 "nbformat_minor": 5
}
