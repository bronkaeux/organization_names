{
 "cells": [
  {
   "cell_type": "code",
   "execution_count": 3,
   "id": "d6189616",
   "metadata": {},
   "outputs": [],
   "source": [
    "import re\n",
    "import pandas as pd"
   ]
  },
  {
   "cell_type": "code",
   "execution_count": null,
   "id": "09718d96",
   "metadata": {},
   "outputs": [],
   "source": []
  },
  {
   "cell_type": "code",
   "execution_count": 2,
   "id": "04ff3f30",
   "metadata": {},
   "outputs": [],
   "source": [
    "patterns = [\n",
    "    r'^(П?АО|ООО|ГУП) +\"?([^\"]+)\"?',  # begins with \"ПАО|ООО|ГУП\" \n",
    "    r'//([\\w-]+)\\s+(\\w)\\w*\\s+(\\w)\\w*//',  # within double slash\n",
    "    r'^(?i)(и)(?:ндивидуальный)?\\s*(п)(?:редприниматель)?\\s*(\\w+)\\s+(\\w)\\w*\\s+(\\w)\\w*',  # begins with \"ИП\"\n",
    "    r'^([\\w-]+)\\s+(\\w)\\w*\\s+(\\w)\\w*\\s+\\((ИП)\\)$',  # ends with \"ИП\"\n",
    "    r'([\\w-]+)\\s+(\\w)\\w*\\s+(\\w)\\w*$',  # Surname Name(N.) Middle Name(M.)\n",
    "    r'^([\\w-]{2,3}) +\"?(.*) +\"(.*)\"',  # 3 double quotes\n",
    "    r'^.+?(?=\\s*\\()',  # split before (\n",
    "    r'^(\\w)\\w{4,}\\s+(\\w)\\w*\\s+(\\w)\\w*\\s+(.+?)(?=\\s*\\()',  # 3 letters before (\n",
    "    r'(\\w)\\w{3,}|\\\"([^\\\"]+)\\\"',  # for abbreviation and name within double quotes\n",
    "           ]"
   ]
  },
  {
   "cell_type": "code",
   "execution_count": null,
   "id": "6d9e2b2f",
   "metadata": {},
   "outputs": [],
   "source": []
  }
 ],
 "metadata": {
  "kernelspec": {
   "display_name": "Python 3 (ipykernel)",
   "language": "python",
   "name": "python3"
  },
  "language_info": {
   "codemirror_mode": {
    "name": "ipython",
    "version": 3
   },
   "file_extension": ".py",
   "mimetype": "text/x-python",
   "name": "python",
   "nbconvert_exporter": "python",
   "pygments_lexer": "ipython3",
   "version": "3.9.12"
  }
 },
 "nbformat": 4,
 "nbformat_minor": 5
}
